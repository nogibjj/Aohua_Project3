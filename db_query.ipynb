{
 "cells": [
  {
   "cell_type": "code",
   "execution_count": 4,
   "metadata": {},
   "outputs": [
    {
     "data": {
      "text/plain": [
       "607"
      ]
     },
     "execution_count": 4,
     "metadata": {},
     "output_type": "execute_result"
    }
   ],
   "source": [
    "import pandas, csv, sqlite3\n",
    "# establish the connection to sqlite3 database\n",
    "sqlite_db_conn = sqlite3.connect(\"ds_salaries.db\")\n",
    "op_cursor = sqlite_db_conn.cursor()\n",
    "# create a database for ds_salaries data and read csv into it\n",
    "database = pandas.read_csv(\"ds_salaries.csv\");\n",
    "database.to_sql(\"ds_salaries\", sqlite_db_conn, if_exists=\"append\", index = False)\n"
   ]
  },
  {
   "cell_type": "code",
   "execution_count": 5,
   "metadata": {},
   "outputs": [
    {
     "name": "stdout",
     "output_type": "stream",
     "text": [
      "['seq', 'work_year', 'experience_level', 'employment_type', 'job_title', 'salary', 'salary_currency', 'salary_in_usd', 'employee_residence', 'remote_ratio', 'company_location', 'company_size']\n"
     ]
    }
   ],
   "source": [
    "#show all attributes to user\n",
    "op_cursor.execute(\"select * from ds_salaries\")\n",
    "attributes = [tuple[0] for tuple in op_cursor.description]\n",
    "print(attributes)"
   ]
  },
  {
   "cell_type": "code",
   "execution_count": 16,
   "metadata": {},
   "outputs": [
    {
     "name": "stdout",
     "output_type": "stream",
     "text": [
      "('Director of Data Science', 'EX', 'US', 325000)\n",
      "('Research Scientist', 'MI', 'US', 450000)\n",
      "('Data Scientist', 'SE', 'US', 412000)\n",
      "('Financial Data Analyst', 'MI', 'US', 450000)\n",
      "('Applied Machine Learning Scientist', 'MI', 'US', 423000)\n",
      "('Principal Data Scientist', 'EX', 'US', 416000)\n",
      "('Principal Data Engineer', 'EX', 'US', 600000)\n",
      "('Data Engineer', 'EX', 'US', 324000)\n",
      "('Applied Data Scientist', 'SE', 'US', 380000)\n",
      "('Data Analytics Lead', 'SE', 'US', 405000)\n"
     ]
    }
   ],
   "source": [
    "# show all positions and experience level and company locations which has a salary >= 300000USD in work year 2020\n",
    "op_cursor.execute(\"select job_title, experience_level, company_location, salary_in_usd from ds_salaries where salary_in_usd >= 300000\")\n",
    "results = op_cursor.fetchall()\n",
    "for entry in results:\n",
    "    print(entry)"
   ]
  },
  {
   "cell_type": "code",
   "execution_count": 8,
   "metadata": {},
   "outputs": [
    {
     "name": "stdout",
     "output_type": "stream",
     "text": [
      "{('AE',), ('GB',), ('PK',), ('LU',), ('GR',), ('UA',), ('IQ',), ('CZ',), ('CL',), ('MT',), ('SG',), ('VN',), ('DK',), ('BR',), ('BE',), ('NG',), ('DE',), ('CO',), ('US',), ('FR',), ('NL',), ('JP',), ('PL',), ('MD',), ('NZ',), ('TR',), ('HU',), ('RO',), ('IL',), ('DZ',), ('CN',), ('IE',), ('HN',), ('MY',), ('AS',), ('AT',), ('IR',), ('SI',), ('CA',), ('AU',), ('CH',), ('PT',), ('HR',), ('IN',), ('ES',), ('IT',), ('RU',), ('MX',), ('EE',), ('KE',)}\n"
     ]
    }
   ],
   "source": [
    "# show all different locations\n",
    "op_cursor.execute(\"select company_location from ds_salaries\")\n",
    "results = op_cursor.fetchall()\n",
    "s = set(results)\n",
    "print (s)"
   ]
  }
 ],
 "metadata": {
  "kernelspec": {
   "display_name": "Python 3.10.4 64-bit",
   "language": "python",
   "name": "python3"
  },
  "language_info": {
   "codemirror_mode": {
    "name": "ipython",
    "version": 3
   },
   "file_extension": ".py",
   "mimetype": "text/x-python",
   "name": "python",
   "nbconvert_exporter": "python",
   "pygments_lexer": "ipython3",
   "version": "3.10.4"
  },
  "orig_nbformat": 4,
  "vscode": {
   "interpreter": {
    "hash": "3ad933181bd8a04b432d3370b9dc3b0662ad032c4dfaa4e4f1596c548f763858"
   }
  }
 },
 "nbformat": 4,
 "nbformat_minor": 2
}
