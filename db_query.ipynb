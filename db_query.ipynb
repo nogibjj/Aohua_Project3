{
 "cells": [
  {
   "cell_type": "code",
   "execution_count": 2,
   "metadata": {},
   "outputs": [
    {
     "data": {
      "text/plain": [
       "607"
      ]
     },
     "execution_count": 2,
     "metadata": {},
     "output_type": "execute_result"
    }
   ],
   "source": [
    "import pandas, csv, sqlite3\n",
    "# establish the connection to sqlite3 database\n",
    "sqlite_db_conn = sqlite3.connect(\"ds_salaries.db\")\n",
    "op_cursor = sqlite_db_conn.cursor()\n",
    "# create a database for ds_salaries data and read csv into it\n",
    "database = pandas.read_csv(\"ds_salaries.csv\");\n",
    "database.to_sql(\"ds_salaries\", sqlite_db_conn, if_exists=\"append\", index = False)\n"
   ]
  },
  {
   "cell_type": "code",
   "execution_count": 6,
   "metadata": {},
   "outputs": [
    {
     "name": "stdout",
     "output_type": "stream",
     "text": [
      "['seq', 'work_year', 'experience_level', 'employment_type', 'job_title', 'salary', 'salary_currency', 'salary_in_usd', 'employee_residence', 'remote_ratio', 'company_location', 'company_size']\n"
     ]
    }
   ],
   "source": [
    "#show all attributes to user\n",
    "op_cursor.execute(\"select * from ds_salaries\")\n",
    "attributes = [tuple[0] for tuple in op_cursor.description]\n",
    "print(attributes)"
   ]
  },
  {
   "cell_type": "code",
   "execution_count": 3,
   "metadata": {},
   "outputs": [
    {
     "name": "stdout",
     "output_type": "stream",
     "text": [
      "('Director of Data Science', 'EX', 'US', 325000)\n",
      "('Research Scientist', 'MI', 'US', 450000)\n",
      "('Data Scientist', 'SE', 'US', 412000)\n",
      "('Financial Data Analyst', 'MI', 'US', 450000)\n",
      "('Applied Machine Learning Scientist', 'MI', 'US', 423000)\n",
      "('Principal Data Scientist', 'EX', 'US', 416000)\n",
      "('Principal Data Engineer', 'EX', 'US', 600000)\n",
      "('Data Engineer', 'EX', 'US', 324000)\n",
      "('Applied Data Scientist', 'SE', 'US', 380000)\n",
      "('Data Analytics Lead', 'SE', 'US', 405000)\n"
     ]
    }
   ],
   "source": [
    "# show all positions and experience level and company locations which has a salary >= 300000USD in work year 2020\n",
    "op_cursor.execute(\"select job_title, experience_level, company_location, salary_in_usd from ds_salaries where salary_in_usd >= 300000\")\n",
    "results = op_cursor.fetchall()\n",
    "for entry in results:\n",
    "    print(entry)"
   ]
  },
  {
   "cell_type": "code",
   "execution_count": 4,
   "metadata": {},
   "outputs": [
    {
     "name": "stdout",
     "output_type": "stream",
     "text": [
      "{('BR',), ('CN',), ('LU',), ('CH',), ('RO',), ('MY',), ('NL',), ('DK',), ('MD',), ('HR',), ('IL',), ('PK',), ('PT',), ('AU',), ('NZ',), ('HU',), ('SI',), ('SG',), ('PL',), ('GB',), ('AT',), ('CL',), ('NG',), ('IQ',), ('AE',), ('CO',), ('GR',), ('KE',), ('MX',), ('DZ',), ('HN',), ('IR',), ('JP',), ('AS',), ('MT',), ('EE',), ('UA',), ('IT',), ('RU',), ('FR',), ('DE',), ('CA',), ('IE',), ('IN',), ('BE',), ('VN',), ('CZ',), ('US',), ('TR',), ('ES',)}\n"
     ]
    }
   ],
   "source": [
    "# show all different locations\n",
    "op_cursor.execute(\"select company_location from ds_salaries\")\n",
    "results = op_cursor.fetchall()\n",
    "s = set(results)\n",
    "print (s)"
   ]
  },
  {
   "cell_type": "code",
   "execution_count": 6,
   "metadata": {},
   "outputs": [
    {
     "name": "stdout",
     "output_type": "stream",
     "text": [
      "('Principal Data Engineer', 'EX', 'US', 2021, 600000)\n",
      "('Principal Data Engineer', 'EX', 'US', 2021, 600000)\n",
      "('Research Scientist', 'MI', 'US', 2020, 450000)\n",
      "('Financial Data Analyst', 'MI', 'US', 2021, 450000)\n",
      "('Research Scientist', 'MI', 'US', 2020, 450000)\n",
      "('Financial Data Analyst', 'MI', 'US', 2021, 450000)\n",
      "('Applied Machine Learning Scientist', 'MI', 'US', 2021, 423000)\n",
      "('Applied Machine Learning Scientist', 'MI', 'US', 2021, 423000)\n",
      "('Principal Data Scientist', 'EX', 'US', 2021, 416000)\n",
      "('Principal Data Scientist', 'EX', 'US', 2021, 416000)\n",
      "('Data Scientist', 'SE', 'US', 2020, 412000)\n",
      "('Data Scientist', 'SE', 'US', 2020, 412000)\n",
      "('Data Analytics Lead', 'SE', 'US', 2022, 405000)\n",
      "('Data Analytics Lead', 'SE', 'US', 2022, 405000)\n",
      "('Applied Data Scientist', 'SE', 'US', 2022, 380000)\n",
      "('Applied Data Scientist', 'SE', 'US', 2022, 380000)\n",
      "('Director of Data Science', 'EX', 'US', 2020, 325000)\n",
      "('Director of Data Science', 'EX', 'US', 2020, 325000)\n",
      "('Data Engineer', 'EX', 'US', 2022, 324000)\n",
      "('Data Engineer', 'EX', 'US', 2022, 324000)\n"
     ]
    }
   ],
   "source": [
    "# show all positions and experience level and company locations which has a salary >= 300000USD and sort the salary to show results in descending order\n",
    "op_cursor.execute(\"select job_title, experience_level, company_location, work_year, salary_in_usd from ds_salaries where salary_in_usd >= 300000 order by salary_in_usd DESC\")\n",
    "results = op_cursor.fetchall()\n",
    "for entry in results:\n",
    "    print(entry)"
   ]
  },
  {
   "cell_type": "code",
   "execution_count": 8,
   "metadata": {},
   "outputs": [
    {
     "name": "stdout",
     "output_type": "stream",
     "text": [
      "('Data Analytics Lead', 'SE', 'US', 2022, 405000)\n",
      "('Data Analytics Lead', 'SE', 'US', 2022, 405000)\n",
      "('Applied Data Scientist', 'SE', 'US', 2022, 380000)\n",
      "('Applied Data Scientist', 'SE', 'US', 2022, 380000)\n",
      "('Data Engineer', 'EX', 'US', 2022, 324000)\n",
      "('Data Engineer', 'EX', 'US', 2022, 324000)\n",
      "('Principal Data Engineer', 'EX', 'US', 2021, 600000)\n",
      "('Principal Data Engineer', 'EX', 'US', 2021, 600000)\n",
      "('Financial Data Analyst', 'MI', 'US', 2021, 450000)\n",
      "('Financial Data Analyst', 'MI', 'US', 2021, 450000)\n",
      "('Applied Machine Learning Scientist', 'MI', 'US', 2021, 423000)\n",
      "('Applied Machine Learning Scientist', 'MI', 'US', 2021, 423000)\n",
      "('Principal Data Scientist', 'EX', 'US', 2021, 416000)\n",
      "('Principal Data Scientist', 'EX', 'US', 2021, 416000)\n",
      "('Research Scientist', 'MI', 'US', 2020, 450000)\n",
      "('Research Scientist', 'MI', 'US', 2020, 450000)\n",
      "('Data Scientist', 'SE', 'US', 2020, 412000)\n",
      "('Data Scientist', 'SE', 'US', 2020, 412000)\n",
      "('Director of Data Science', 'EX', 'US', 2020, 325000)\n",
      "('Director of Data Science', 'EX', 'US', 2020, 325000)\n"
     ]
    }
   ],
   "source": [
    "# show all positions and experience level and company locations which has a salary >= 300000USD and sort the salary to show results in descending order(first in work_year, then in salary)\n",
    "op_cursor.execute(\"select job_title, experience_level, company_location, work_year, salary_in_usd from ds_salaries where salary_in_usd >= 300000 order by work_year DESC, salary_in_usd DESC\")\n",
    "results = op_cursor.fetchall()\n",
    "for entry in results:\n",
    "    print(entry)"
   ]
  },
  {
   "cell_type": "code",
   "execution_count": 35,
   "metadata": {},
   "outputs": [
    {
     "name": "stdout",
     "output_type": "stream",
     "text": [
      "('Director of Data Science', 'EX', 'US', 2020, 325000)\n",
      "('Director of Data Science', 'EX', 'PL', 2021, 153667)\n",
      "('Director of Data Engineering', 'SE', 'GB', 2021, 113476)\n",
      "('Director of Data Science', 'SE', 'JP', 2021, 168000)\n",
      "('Director of Data Science', 'EX', 'DE', 2021, 130026)\n",
      "('Director of Data Science', 'EX', 'US', 2021, 250000)\n",
      "('Director of Data Engineering', 'SE', 'US', 2021, 200000)\n",
      "('Director of Data Science', 'EX', 'DE', 2021, 141846)\n",
      "('Director of Data Science', 'EX', 'CA', 2022, 196979)\n",
      "('Director of Data Science', 'EX', 'US', 2020, 325000)\n",
      "('Director of Data Science', 'EX', 'PL', 2021, 153667)\n",
      "('Director of Data Engineering', 'SE', 'GB', 2021, 113476)\n",
      "('Director of Data Science', 'SE', 'JP', 2021, 168000)\n",
      "('Director of Data Science', 'EX', 'DE', 2021, 130026)\n",
      "('Director of Data Science', 'EX', 'US', 2021, 250000)\n",
      "('Director of Data Engineering', 'SE', 'US', 2021, 200000)\n",
      "('Director of Data Science', 'EX', 'DE', 2021, 141846)\n",
      "('Director of Data Science', 'EX', 'CA', 2022, 196979)\n"
     ]
    }
   ],
   "source": [
    "# show all positions and experience level and company locations which has a salary >= 300000USD and the position contains the keyword director\n",
    "keyword = input (\"Enter keyword :\") \n",
    "op_cursor.execute(\"select job_title, experience_level, company_location, work_year, salary_in_usd from ds_salaries WHERE job_title LIKE '%%%s%%'\"%(keyword))\n",
    "results = op_cursor.fetchall()\n",
    "for entry in results:\n",
    "    print(entry)"
   ]
  }
 ],
 "metadata": {
  "kernelspec": {
   "display_name": "Python 3.10.4 64-bit",
   "language": "python",
   "name": "python3"
  },
  "language_info": {
   "codemirror_mode": {
    "name": "ipython",
    "version": 3
   },
   "file_extension": ".py",
   "mimetype": "text/x-python",
   "name": "python",
   "nbconvert_exporter": "python",
   "pygments_lexer": "ipython3",
   "version": "3.10.4"
  },
  "orig_nbformat": 4,
  "vscode": {
   "interpreter": {
    "hash": "3ad933181bd8a04b432d3370b9dc3b0662ad032c4dfaa4e4f1596c548f763858"
   }
  }
 },
 "nbformat": 4,
 "nbformat_minor": 2
}
